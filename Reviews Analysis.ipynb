{
 "cells": [
  {
   "cell_type": "code",
   "execution_count": 1,
   "id": "24af63f7-b275-43c9-8ea9-18d79110173d",
   "metadata": {},
   "outputs": [],
   "source": [
    "import numpy as np\n",
    "import pandas as pd\n",
    "from sklearn.model_selection import train_test_split\n",
    "from sklearn.feature_extraction.text import CountVectorizer\n",
    "from sklearn.linear_model import LogisticRegression\n",
    "from sklearn.tree import DecisionTreeClassifier\n",
    "from sklearn.ensemble import RandomForestClassifier\n",
    "from sklearn.svm import SVC\n",
    "from sklearn.neighbors import KNeighborsClassifier\n",
    "from sklearn.metrics import accuracy_score, classification_report,precision_score, recall_score"
   ]
  },
  {
   "cell_type": "code",
   "execution_count": 3,
   "id": "898aadab-a338-4711-b683-2dec8729ee0b",
   "metadata": {},
   "outputs": [
    {
     "name": "stderr",
     "output_type": "stream",
     "text": [
      "[nltk_data] Downloading package stopwords to\n",
      "[nltk_data]     C:\\Users\\meetd\\AppData\\Roaming\\nltk_data...\n",
      "[nltk_data]   Package stopwords is already up-to-date!\n",
      "[nltk_data] Downloading package punkt to\n",
      "[nltk_data]     C:\\Users\\meetd\\AppData\\Roaming\\nltk_data...\n",
      "[nltk_data]   Package punkt is already up-to-date!\n"
     ]
    },
    {
     "data": {
      "text/plain": [
       "True"
      ]
     },
     "execution_count": 3,
     "metadata": {},
     "output_type": "execute_result"
    }
   ],
   "source": [
    "import pandas as pd\n",
    "import re\n",
    "from nltk.corpus import stopwords\n",
    "from nltk.tokenize import word_tokenize\n",
    "import nltk\n",
    "\n",
    "# Download stopwords and tokenizer\n",
    "nltk.download('stopwords')\n",
    "nltk.download('punkt')\n"
   ]
  },
  {
   "cell_type": "code",
   "execution_count": 5,
   "id": "98085c15-368b-44eb-9423-d78fc5335052",
   "metadata": {},
   "outputs": [],
   "source": [
    "data = pd.read_csv('reviews_dataset.csv')"
   ]
  },
  {
   "cell_type": "code",
   "execution_count": 7,
   "id": "0d5cbdff-2cdc-4e00-b991-5c06128df22a",
   "metadata": {},
   "outputs": [
    {
     "data": {
      "text/html": [
       "<div>\n",
       "<style scoped>\n",
       "    .dataframe tbody tr th:only-of-type {\n",
       "        vertical-align: middle;\n",
       "    }\n",
       "\n",
       "    .dataframe tbody tr th {\n",
       "        vertical-align: top;\n",
       "    }\n",
       "\n",
       "    .dataframe thead th {\n",
       "        text-align: right;\n",
       "    }\n",
       "</style>\n",
       "<table border=\"1\" class=\"dataframe\">\n",
       "  <thead>\n",
       "    <tr style=\"text-align: right;\">\n",
       "      <th></th>\n",
       "      <th>id</th>\n",
       "      <th>brand</th>\n",
       "      <th>categories</th>\n",
       "      <th>manufacturer</th>\n",
       "      <th>name</th>\n",
       "      <th>reviews_date</th>\n",
       "      <th>reviews_didPurchase</th>\n",
       "      <th>reviews_doRecommend</th>\n",
       "      <th>reviews_rating</th>\n",
       "      <th>reviews_text</th>\n",
       "      <th>reviews_title</th>\n",
       "      <th>reviews_userCity</th>\n",
       "      <th>reviews_userProvince</th>\n",
       "      <th>reviews_username</th>\n",
       "      <th>user_sentiment</th>\n",
       "    </tr>\n",
       "  </thead>\n",
       "  <tbody>\n",
       "    <tr>\n",
       "      <th>0</th>\n",
       "      <td>AV13O1A8GV-KLJ3akUyj</td>\n",
       "      <td>Universal Music</td>\n",
       "      <td>Movies, Music &amp; Books,Music,R&amp;b,Movies &amp; TV,Mo...</td>\n",
       "      <td>Universal Music Group / Cash Money</td>\n",
       "      <td>Pink Friday: Roman Reloaded Re-Up (w/dvd)</td>\n",
       "      <td>2012-11-30T06:21:45.000Z</td>\n",
       "      <td>NaN</td>\n",
       "      <td>NaN</td>\n",
       "      <td>5</td>\n",
       "      <td>i love this album. it's very good. more to the...</td>\n",
       "      <td>Just Awesome</td>\n",
       "      <td>Los Angeles</td>\n",
       "      <td>NaN</td>\n",
       "      <td>joshua</td>\n",
       "      <td>Positive</td>\n",
       "    </tr>\n",
       "    <tr>\n",
       "      <th>1</th>\n",
       "      <td>AV14LG0R-jtxr-f38QfS</td>\n",
       "      <td>Lundberg</td>\n",
       "      <td>Food,Packaged Foods,Snacks,Crackers,Snacks, Co...</td>\n",
       "      <td>Lundberg</td>\n",
       "      <td>Lundberg Organic Cinnamon Toast Rice Cakes</td>\n",
       "      <td>2017-07-09T00:00:00.000Z</td>\n",
       "      <td>True</td>\n",
       "      <td>NaN</td>\n",
       "      <td>5</td>\n",
       "      <td>Good flavor. This review was collected as part...</td>\n",
       "      <td>Good</td>\n",
       "      <td>NaN</td>\n",
       "      <td>NaN</td>\n",
       "      <td>dorothy w</td>\n",
       "      <td>Positive</td>\n",
       "    </tr>\n",
       "    <tr>\n",
       "      <th>2</th>\n",
       "      <td>AV14LG0R-jtxr-f38QfS</td>\n",
       "      <td>Lundberg</td>\n",
       "      <td>Food,Packaged Foods,Snacks,Crackers,Snacks, Co...</td>\n",
       "      <td>Lundberg</td>\n",
       "      <td>Lundberg Organic Cinnamon Toast Rice Cakes</td>\n",
       "      <td>2017-07-09T00:00:00.000Z</td>\n",
       "      <td>True</td>\n",
       "      <td>NaN</td>\n",
       "      <td>5</td>\n",
       "      <td>Good flavor.</td>\n",
       "      <td>Good</td>\n",
       "      <td>NaN</td>\n",
       "      <td>NaN</td>\n",
       "      <td>dorothy w</td>\n",
       "      <td>Positive</td>\n",
       "    </tr>\n",
       "    <tr>\n",
       "      <th>3</th>\n",
       "      <td>AV16khLE-jtxr-f38VFn</td>\n",
       "      <td>K-Y</td>\n",
       "      <td>Personal Care,Medicine Cabinet,Lubricant/Sperm...</td>\n",
       "      <td>K-Y</td>\n",
       "      <td>K-Y Love Sensuality Pleasure Gel</td>\n",
       "      <td>2016-01-06T00:00:00.000Z</td>\n",
       "      <td>False</td>\n",
       "      <td>False</td>\n",
       "      <td>1</td>\n",
       "      <td>I read through the reviews on here before look...</td>\n",
       "      <td>Disappointed</td>\n",
       "      <td>NaN</td>\n",
       "      <td>NaN</td>\n",
       "      <td>rebecca</td>\n",
       "      <td>Negative</td>\n",
       "    </tr>\n",
       "    <tr>\n",
       "      <th>4</th>\n",
       "      <td>AV16khLE-jtxr-f38VFn</td>\n",
       "      <td>K-Y</td>\n",
       "      <td>Personal Care,Medicine Cabinet,Lubricant/Sperm...</td>\n",
       "      <td>K-Y</td>\n",
       "      <td>K-Y Love Sensuality Pleasure Gel</td>\n",
       "      <td>2016-12-21T00:00:00.000Z</td>\n",
       "      <td>False</td>\n",
       "      <td>False</td>\n",
       "      <td>1</td>\n",
       "      <td>My husband bought this gel for us. The gel cau...</td>\n",
       "      <td>Irritation</td>\n",
       "      <td>NaN</td>\n",
       "      <td>NaN</td>\n",
       "      <td>walker557</td>\n",
       "      <td>Negative</td>\n",
       "    </tr>\n",
       "  </tbody>\n",
       "</table>\n",
       "</div>"
      ],
      "text/plain": [
       "                     id            brand  \\\n",
       "0  AV13O1A8GV-KLJ3akUyj  Universal Music   \n",
       "1  AV14LG0R-jtxr-f38QfS         Lundberg   \n",
       "2  AV14LG0R-jtxr-f38QfS         Lundberg   \n",
       "3  AV16khLE-jtxr-f38VFn              K-Y   \n",
       "4  AV16khLE-jtxr-f38VFn              K-Y   \n",
       "\n",
       "                                          categories  \\\n",
       "0  Movies, Music & Books,Music,R&b,Movies & TV,Mo...   \n",
       "1  Food,Packaged Foods,Snacks,Crackers,Snacks, Co...   \n",
       "2  Food,Packaged Foods,Snacks,Crackers,Snacks, Co...   \n",
       "3  Personal Care,Medicine Cabinet,Lubricant/Sperm...   \n",
       "4  Personal Care,Medicine Cabinet,Lubricant/Sperm...   \n",
       "\n",
       "                         manufacturer  \\\n",
       "0  Universal Music Group / Cash Money   \n",
       "1                            Lundberg   \n",
       "2                            Lundberg   \n",
       "3                                 K-Y   \n",
       "4                                 K-Y   \n",
       "\n",
       "                                         name              reviews_date  \\\n",
       "0   Pink Friday: Roman Reloaded Re-Up (w/dvd)  2012-11-30T06:21:45.000Z   \n",
       "1  Lundberg Organic Cinnamon Toast Rice Cakes  2017-07-09T00:00:00.000Z   \n",
       "2  Lundberg Organic Cinnamon Toast Rice Cakes  2017-07-09T00:00:00.000Z   \n",
       "3            K-Y Love Sensuality Pleasure Gel  2016-01-06T00:00:00.000Z   \n",
       "4            K-Y Love Sensuality Pleasure Gel  2016-12-21T00:00:00.000Z   \n",
       "\n",
       "  reviews_didPurchase reviews_doRecommend  reviews_rating  \\\n",
       "0                 NaN                 NaN               5   \n",
       "1                True                 NaN               5   \n",
       "2                True                 NaN               5   \n",
       "3               False               False               1   \n",
       "4               False               False               1   \n",
       "\n",
       "                                        reviews_text reviews_title  \\\n",
       "0  i love this album. it's very good. more to the...  Just Awesome   \n",
       "1  Good flavor. This review was collected as part...          Good   \n",
       "2                                       Good flavor.          Good   \n",
       "3  I read through the reviews on here before look...  Disappointed   \n",
       "4  My husband bought this gel for us. The gel cau...    Irritation   \n",
       "\n",
       "  reviews_userCity reviews_userProvince reviews_username user_sentiment  \n",
       "0      Los Angeles                  NaN           joshua       Positive  \n",
       "1              NaN                  NaN        dorothy w       Positive  \n",
       "2              NaN                  NaN        dorothy w       Positive  \n",
       "3              NaN                  NaN          rebecca       Negative  \n",
       "4              NaN                  NaN        walker557       Negative  "
      ]
     },
     "execution_count": 7,
     "metadata": {},
     "output_type": "execute_result"
    }
   ],
   "source": [
    "data.head()"
   ]
  },
  {
   "cell_type": "code",
   "execution_count": 9,
   "id": "6ae3745d-9991-47d8-ae69-93f804be4af3",
   "metadata": {},
   "outputs": [
    {
     "name": "stdout",
     "output_type": "stream",
     "text": [
      "<class 'pandas.core.frame.DataFrame'>\n",
      "RangeIndex: 30000 entries, 0 to 29999\n",
      "Data columns (total 15 columns):\n",
      " #   Column                Non-Null Count  Dtype \n",
      "---  ------                --------------  ----- \n",
      " 0   id                    30000 non-null  object\n",
      " 1   brand                 30000 non-null  object\n",
      " 2   categories            30000 non-null  object\n",
      " 3   manufacturer          29859 non-null  object\n",
      " 4   name                  30000 non-null  object\n",
      " 5   reviews_date          29954 non-null  object\n",
      " 6   reviews_didPurchase   15932 non-null  object\n",
      " 7   reviews_doRecommend   27430 non-null  object\n",
      " 8   reviews_rating        30000 non-null  int64 \n",
      " 9   reviews_text          30000 non-null  object\n",
      " 10  reviews_title         29810 non-null  object\n",
      " 11  reviews_userCity      1929 non-null   object\n",
      " 12  reviews_userProvince  170 non-null    object\n",
      " 13  reviews_username      29937 non-null  object\n",
      " 14  user_sentiment        29999 non-null  object\n",
      "dtypes: int64(1), object(14)\n",
      "memory usage: 3.4+ MB\n"
     ]
    }
   ],
   "source": [
    "data.info()"
   ]
  },
  {
   "cell_type": "code",
   "execution_count": 11,
   "id": "18153f06-cf34-484f-95b8-f4c7c3a65a14",
   "metadata": {},
   "outputs": [
    {
     "data": {
      "text/plain": [
       "(30000, 15)"
      ]
     },
     "execution_count": 11,
     "metadata": {},
     "output_type": "execute_result"
    }
   ],
   "source": [
    "data.shape"
   ]
  },
  {
   "cell_type": "code",
   "execution_count": 13,
   "id": "85f6995e-ad14-4d7b-b8a5-9b3d8f7f4016",
   "metadata": {},
   "outputs": [
    {
     "data": {
      "text/plain": [
       "id                          0\n",
       "brand                       0\n",
       "categories                  0\n",
       "manufacturer              141\n",
       "name                        0\n",
       "reviews_date               46\n",
       "reviews_didPurchase     14068\n",
       "reviews_doRecommend      2570\n",
       "reviews_rating              0\n",
       "reviews_text                0\n",
       "reviews_title             190\n",
       "reviews_userCity        28071\n",
       "reviews_userProvince    29830\n",
       "reviews_username           63\n",
       "user_sentiment              1\n",
       "dtype: int64"
      ]
     },
     "execution_count": 13,
     "metadata": {},
     "output_type": "execute_result"
    }
   ],
   "source": [
    "data.isnull().sum()"
   ]
  },
  {
   "cell_type": "code",
   "execution_count": 15,
   "id": "5b681c6f-25f9-4969-b090-4a73c043693e",
   "metadata": {},
   "outputs": [
    {
     "data": {
      "text/plain": [
       "(30000, 15)"
      ]
     },
     "execution_count": 15,
     "metadata": {},
     "output_type": "execute_result"
    }
   ],
   "source": [
    "data.shape"
   ]
  },
  {
   "cell_type": "code",
   "execution_count": 17,
   "id": "5c9ef691-36af-4ec8-a9ab-36975f6c7816",
   "metadata": {},
   "outputs": [],
   "source": [
    "data = data.dropna(subset=['user_sentiment'])"
   ]
  },
  {
   "cell_type": "code",
   "execution_count": 19,
   "id": "60a0214a-7466-4591-9ecb-725d0a30022d",
   "metadata": {},
   "outputs": [],
   "source": [
    "data = data.drop(['id','brand','categories','manufacturer','name','reviews_date','reviews_didPurchase','reviews_doRecommend','reviews_rating','reviews_title','reviews_userCity','reviews_userProvince','reviews_username'],axis=1)"
   ]
  },
  {
   "cell_type": "code",
   "execution_count": 21,
   "id": "0048c2be-4250-4d86-a2f7-7bffea7f3203",
   "metadata": {},
   "outputs": [
    {
     "data": {
      "text/html": [
       "<div>\n",
       "<style scoped>\n",
       "    .dataframe tbody tr th:only-of-type {\n",
       "        vertical-align: middle;\n",
       "    }\n",
       "\n",
       "    .dataframe tbody tr th {\n",
       "        vertical-align: top;\n",
       "    }\n",
       "\n",
       "    .dataframe thead th {\n",
       "        text-align: right;\n",
       "    }\n",
       "</style>\n",
       "<table border=\"1\" class=\"dataframe\">\n",
       "  <thead>\n",
       "    <tr style=\"text-align: right;\">\n",
       "      <th></th>\n",
       "      <th>reviews_text</th>\n",
       "      <th>user_sentiment</th>\n",
       "    </tr>\n",
       "  </thead>\n",
       "  <tbody>\n",
       "    <tr>\n",
       "      <th>0</th>\n",
       "      <td>i love this album. it's very good. more to the...</td>\n",
       "      <td>Positive</td>\n",
       "    </tr>\n",
       "    <tr>\n",
       "      <th>1</th>\n",
       "      <td>Good flavor. This review was collected as part...</td>\n",
       "      <td>Positive</td>\n",
       "    </tr>\n",
       "    <tr>\n",
       "      <th>2</th>\n",
       "      <td>Good flavor.</td>\n",
       "      <td>Positive</td>\n",
       "    </tr>\n",
       "    <tr>\n",
       "      <th>3</th>\n",
       "      <td>I read through the reviews on here before look...</td>\n",
       "      <td>Negative</td>\n",
       "    </tr>\n",
       "    <tr>\n",
       "      <th>4</th>\n",
       "      <td>My husband bought this gel for us. The gel cau...</td>\n",
       "      <td>Negative</td>\n",
       "    </tr>\n",
       "  </tbody>\n",
       "</table>\n",
       "</div>"
      ],
      "text/plain": [
       "                                        reviews_text user_sentiment\n",
       "0  i love this album. it's very good. more to the...       Positive\n",
       "1  Good flavor. This review was collected as part...       Positive\n",
       "2                                       Good flavor.       Positive\n",
       "3  I read through the reviews on here before look...       Negative\n",
       "4  My husband bought this gel for us. The gel cau...       Negative"
      ]
     },
     "execution_count": 21,
     "metadata": {},
     "output_type": "execute_result"
    }
   ],
   "source": [
    "data.head()"
   ]
  },
  {
   "cell_type": "code",
   "execution_count": 23,
   "id": "b5b3d8f4-b232-4ce4-96dd-d9e4971dff1d",
   "metadata": {},
   "outputs": [
    {
     "data": {
      "text/plain": [
       "user_sentiment\n",
       "Positive    26632\n",
       "Negative     3367\n",
       "Name: count, dtype: int64"
      ]
     },
     "execution_count": 23,
     "metadata": {},
     "output_type": "execute_result"
    }
   ],
   "source": [
    "data['user_sentiment'].value_counts()"
   ]
  },
  {
   "cell_type": "code",
   "execution_count": 25,
   "id": "7febe8d1-3b09-453c-855d-f0c8c3198cad",
   "metadata": {},
   "outputs": [],
   "source": [
    "def clean_review(review):\n",
    "    # 1. Convert to lowercase\n",
    "    review = review.lower()\n",
    "    \n",
    "    # 2. Remove HTML tags\n",
    "    review = re.sub(r'<.*?>', '', review)\n",
    "    \n",
    "    # 3. Remove special characters and numbers\n",
    "    review = re.sub(r'[^a-z\\s]', '', review)\n",
    "    \n",
    "    # 4. Tokenize the text\n",
    "    tokens = word_tokenize(review)\n",
    "    \n",
    "    # 5. Remove stopwords\n",
    "    stop_words = set(stopwords.words('english'))\n",
    "    tokens = [word for word in tokens if word not in stop_words]\n",
    "    \n",
    "    # 6. Join tokens back into a cleaned string\n",
    "    return ' '.join(tokens)\n"
   ]
  },
  {
   "cell_type": "code",
   "execution_count": 49,
   "id": "dd17fee9-ae30-4b95-9b89-f8781da7a84b",
   "metadata": {},
   "outputs": [
    {
     "name": "stdout",
     "output_type": "stream",
     "text": [
      "                                        reviews_text  \\\n",
      "0  i love this album. it's very good. more to the...   \n",
      "1  Good flavor. This review was collected as part...   \n",
      "2                                       Good flavor.   \n",
      "3  I read through the reviews on here before look...   \n",
      "4  My husband bought this gel for us. The gel cau...   \n",
      "\n",
      "                                     cleaned_reviews  \n",
      "0  love album good hip hop side current pop sound...  \n",
      "1        good flavor review collected part promotion  \n",
      "2                                        good flavor  \n",
      "3  read reviews looking buying one couples lubric...  \n",
      "4  husband bought gel us gel caused irritation fe...  \n"
     ]
    }
   ],
   "source": [
    "\n",
    "data['cleaned_reviews'] = data['reviews_text'].apply(clean_review)\n",
    "\n",
    "# Display cleaned reviews\n",
    "print(data[['reviews_text', 'cleaned_reviews']].head())\n"
   ]
  },
  {
   "cell_type": "code",
   "execution_count": 29,
   "id": "37342bc8-dd4c-45f2-abf2-2e4074c7df4a",
   "metadata": {},
   "outputs": [],
   "source": [
    "data = data.dropna(subset=['cleaned_reviews', 'user_sentiment'])"
   ]
  },
  {
   "cell_type": "code",
   "execution_count": 31,
   "id": "94df46aa-373b-43a8-8cee-f8e7d5b0663b",
   "metadata": {},
   "outputs": [],
   "source": [
    "data['user_sentiment'] = data['user_sentiment'].map({'Positive': 1, 'Negative': 0})"
   ]
  },
  {
   "cell_type": "code",
   "execution_count": 33,
   "id": "527eb743-0c7c-4310-9fe6-a121fd848d37",
   "metadata": {},
   "outputs": [
    {
     "name": "stdout",
     "output_type": "stream",
     "text": [
      "(29999, 3)\n",
      "0\n"
     ]
    }
   ],
   "source": [
    "print(data.shape)  # Check the number of rows and columns\n",
    "print(data['user_sentiment'].isnull().sum())  # Confirm no NaN values remain"
   ]
  },
  {
   "cell_type": "code",
   "execution_count": 35,
   "id": "ea1f31d4-71cc-4c77-b95e-24d8a54a9f19",
   "metadata": {},
   "outputs": [],
   "source": [
    "X = data['cleaned_reviews']  # Feature: text data\n",
    "y = data['user_sentiment']  # Target: sentiment"
   ]
  },
  {
   "cell_type": "code",
   "execution_count": 37,
   "id": "a9d1c1f8-298d-4be7-93ac-cb8cbb5cc5b9",
   "metadata": {},
   "outputs": [],
   "source": [
    "# Split into training and testing sets\n",
    "X_train, X_test, y_train, y_test = train_test_split(X, y, test_size=0.2, random_state=42)"
   ]
  },
  {
   "cell_type": "code",
   "execution_count": 39,
   "id": "7f119c9b-686c-43bb-9897-20e79c8918fa",
   "metadata": {},
   "outputs": [],
   "source": [
    "vectorizer = CountVectorizer()  # Initialize CountVectorizer\n",
    "\n",
    "# Fit and transform training data, transform test data\n",
    "X_train_vec = vectorizer.fit_transform(X_train)\n",
    "X_test_vec = vectorizer.transform(X_test)\n"
   ]
  },
  {
   "cell_type": "code",
   "execution_count": 41,
   "id": "f752ce17-95b0-45b7-a237-a40cfd421f69",
   "metadata": {},
   "outputs": [],
   "source": [
    "# Define a dictionary to store models and their names\n",
    "models = {\n",
    "    \"Logistic Regression\": LogisticRegression(max_iter=1000, random_state=42),\n",
    "    \"Decision Tree\": DecisionTreeClassifier(random_state=42),\n",
    "    \"Random Forest\": RandomForestClassifier(n_estimators=100, random_state=42),\n",
    "    \"SVM\": SVC(),\n",
    "    \"KNN\": KNeighborsClassifier(n_neighbors=5)\n",
    "}"
   ]
  },
  {
   "cell_type": "code",
   "execution_count": 43,
   "id": "bf3cf598-2bd2-4d30-bcc3-87f42f0c283e",
   "metadata": {},
   "outputs": [],
   "source": [
    "# Store results\n",
    "results = {}"
   ]
  },
  {
   "cell_type": "code",
   "execution_count": 45,
   "id": "49195cab-06cc-4428-bfdd-df84a3574ef8",
   "metadata": {},
   "outputs": [
    {
     "name": "stdout",
     "output_type": "stream",
     "text": [
      "Training and testing Logistic Regression...\n",
      "Training and testing Decision Tree...\n",
      "Training and testing Random Forest...\n",
      "Training and testing SVM...\n",
      "Training and testing KNN...\n"
     ]
    }
   ],
   "source": [
    "# Iterate through models and train/test each one\n",
    "for model_name, model in models.items():\n",
    "    print(f\"Training and testing {model_name}...\")\n",
    "    \n",
    "    # Train the model\n",
    "    model.fit(X_train_vec, y_train)\n",
    "    \n",
    "    # Predict on training data for overfitting check\n",
    "    y_train_pred = model.predict(X_train_vec)\n",
    "    train_accuracy = accuracy_score(y_train, y_train_pred)\n",
    "    \n",
    "    # Predict on test data\n",
    "    y_test_pred = model.predict(X_test_vec)\n",
    "    test_accuracy = accuracy_score(y_test, y_test_pred)\n",
    "    classification_rep = classification_report(y_test, y_test_pred)\n",
    "    \n",
    "    # Check for overfitting or underfitting\n",
    "    if train_accuracy > test_accuracy + 0.1:\n",
    "        status = \"Overfitting\"\n",
    "    elif train_accuracy < 0.7 and test_accuracy < 0.7:\n",
    "        status = \"Underfitting\"\n",
    "    else:\n",
    "        status = \"Well Generalized\"\n",
    "\n",
    "    # Store results\n",
    "    results[model_name] = {\n",
    "        \"Training Accuracy\": train_accuracy,\n",
    "        \"Testing Accuracy\": test_accuracy,\n",
    "        \"Classification Report\": classification_rep,\n",
    "        \"Status\": status\n",
    "    }"
   ]
  },
  {
   "cell_type": "code",
   "execution_count": 47,
   "id": "6faa8f3a-c979-415c-a446-c02c6c5cc862",
   "metadata": {},
   "outputs": [
    {
     "name": "stdout",
     "output_type": "stream",
     "text": [
      "\n",
      "Model: Logistic Regression\n",
      "Training Accuracy: 0.99\n",
      "Testing Accuracy: 0.96\n",
      "Status: Well Generalized\n",
      "Classification Report:\n",
      "              precision    recall  f1-score   support\n",
      "\n",
      "           0       0.83      0.75      0.79       653\n",
      "           1       0.97      0.98      0.98      5347\n",
      "\n",
      "    accuracy                           0.96      6000\n",
      "   macro avg       0.90      0.86      0.88      6000\n",
      "weighted avg       0.95      0.96      0.95      6000\n",
      "\n",
      "\n",
      "Model: Decision Tree\n",
      "Training Accuracy: 1.00\n",
      "Testing Accuracy: 0.94\n",
      "Status: Well Generalized\n",
      "Classification Report:\n",
      "              precision    recall  f1-score   support\n",
      "\n",
      "           0       0.75      0.73      0.74       653\n",
      "           1       0.97      0.97      0.97      5347\n",
      "\n",
      "    accuracy                           0.94      6000\n",
      "   macro avg       0.86      0.85      0.85      6000\n",
      "weighted avg       0.94      0.94      0.94      6000\n",
      "\n",
      "\n",
      "Model: Random Forest\n",
      "Training Accuracy: 1.00\n",
      "Testing Accuracy: 0.94\n",
      "Status: Well Generalized\n",
      "Classification Report:\n",
      "              precision    recall  f1-score   support\n",
      "\n",
      "           0       0.86      0.49      0.63       653\n",
      "           1       0.94      0.99      0.97      5347\n",
      "\n",
      "    accuracy                           0.94      6000\n",
      "   macro avg       0.90      0.74      0.80      6000\n",
      "weighted avg       0.93      0.94      0.93      6000\n",
      "\n",
      "\n",
      "Model: SVM\n",
      "Training Accuracy: 0.98\n",
      "Testing Accuracy: 0.94\n",
      "Status: Well Generalized\n",
      "Classification Report:\n",
      "              precision    recall  f1-score   support\n",
      "\n",
      "           0       0.89      0.55      0.68       653\n",
      "           1       0.95      0.99      0.97      5347\n",
      "\n",
      "    accuracy                           0.94      6000\n",
      "   macro avg       0.92      0.77      0.82      6000\n",
      "weighted avg       0.94      0.94      0.94      6000\n",
      "\n",
      "\n",
      "Model: KNN\n",
      "Training Accuracy: 0.91\n",
      "Testing Accuracy: 0.88\n",
      "Status: Well Generalized\n",
      "Classification Report:\n",
      "              precision    recall  f1-score   support\n",
      "\n",
      "           0       0.42      0.33      0.37       653\n",
      "           1       0.92      0.94      0.93      5347\n",
      "\n",
      "    accuracy                           0.88      6000\n",
      "   macro avg       0.67      0.64      0.65      6000\n",
      "weighted avg       0.87      0.88      0.87      6000\n",
      "\n"
     ]
    }
   ],
   "source": [
    "# Print results\n",
    "for model_name, metrics in results.items():\n",
    "    print(f\"\\nModel: {model_name}\")\n",
    "    print(f\"Training Accuracy: {metrics['Training Accuracy']:.2f}\")\n",
    "    print(f\"Testing Accuracy: {metrics['Testing Accuracy']:.2f}\")\n",
    "    print(f\"Status: {metrics['Status']}\")\n",
    "    print(\"Classification Report:\")\n",
    "    print(metrics['Classification Report'])"
   ]
  },
  {
   "cell_type": "code",
   "execution_count": null,
   "id": "68fdfae6-eb07-4acd-b8fd-0b44d41ce309",
   "metadata": {},
   "outputs": [],
   "source": []
  },
  {
   "cell_type": "code",
   "execution_count": null,
   "id": "4430004e-3952-4e91-ae3b-e115f6c973f5",
   "metadata": {},
   "outputs": [],
   "source": []
  }
 ],
 "metadata": {
  "kernelspec": {
   "display_name": "Python 3 (ipykernel)",
   "language": "python",
   "name": "python3"
  },
  "language_info": {
   "codemirror_mode": {
    "name": "ipython",
    "version": 3
   },
   "file_extension": ".py",
   "mimetype": "text/x-python",
   "name": "python",
   "nbconvert_exporter": "python",
   "pygments_lexer": "ipython3",
   "version": "3.12.7"
  }
 },
 "nbformat": 4,
 "nbformat_minor": 5
}
